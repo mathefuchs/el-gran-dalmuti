{
 "cells": [
  {
   "cell_type": "markdown",
   "metadata": {},
   "source": [
    "# El Gran Dalmuti - QLearning"
   ]
  },
  {
   "cell_type": "code",
   "execution_count": 23,
   "metadata": {},
   "outputs": [],
   "source": [
    "import numpy as np"
   ]
  },
  {
   "cell_type": "markdown",
   "metadata": {},
   "source": [
    "### Basic game mechanics"
   ]
  },
  {
   "cell_type": "code",
   "execution_count": 24,
   "metadata": {},
   "outputs": [],
   "source": [
    "CARD_VALUES = 13\n",
    "JOKER = 12  # Jokers at index 12\n",
    "PLAYERS = 4\n",
    "\n",
    "player = list(range(PLAYERS))\n",
    "\n",
    "\n",
    "def has_already_won(hand):\n",
    "    \"\"\"\n",
    "    hand - vector with 13 entries (number of 1, 2, ..., 12, Jokers)\n",
    "    \"\"\"\n",
    "\n",
    "    return np.all(hand == 0)\n",
    "    \n",
    "    \n",
    "def get_cards_array(card_type, num_cards):\n",
    "    \"\"\" Vector representation of the cards of one kind. \"\"\"\n",
    "    \n",
    "    cards_array = np.zeros(CARD_VALUES)\n",
    "    cards_array[card_type] = num_cards\n",
    "    return cards_array\n",
    "    \n",
    "\n",
    "def possible_next_moves(hand, board):\n",
    "    \"\"\"\n",
    "    Returns possible next moves as a list of tuples (new hand, new board)\n",
    "    \"\"\"\n",
    "    \n",
    "    card_type_in_board = np.argmax(board)\n",
    "    num_cards_in_board = board[card_type_in_board]\n",
    "    \n",
    "    # You can always pass\n",
    "    possible_hands = hand\n",
    "    possible_boards = board\n",
    "    \n",
    "    for card_type_in_hand in range(CARD_VALUES - 1, -1, -1):\n",
    "        # You can play clean\n",
    "        if card_type_in_hand < card_type_in_board and \\\n",
    "          hand[card_type_in_hand] >= num_cards_in_board:\n",
    "            new_board = get_cards_array(card_type_in_hand, num_cards_in_board)\n",
    "            new_hand = hand - new_board\n",
    "            possible_hands = np.vstack([possible_hands, new_hand])\n",
    "            possible_boards = np.vstack([possible_boards, new_board])\n",
    "        \n",
    "        # Or you can play dirty (with Joker(s))\n",
    "        if card_type_in_hand != JOKER and hand[JOKER] > 0 and \\\n",
    "          card_type_in_hand < card_type_in_board and hand[card_type_in_hand] > 0 and \\\n",
    "          hand[card_type_in_hand] + hand[JOKER] >= num_cards_in_board:\n",
    "            # Use one joker\n",
    "            if hand[card_type_in_hand] + 1 >= num_cards_in_board:\n",
    "                joker_vec = get_cards_array(JOKER, 1)\n",
    "                new_board = get_cards_array(card_type_in_hand, num_cards_in_board - 1) + joker_vec\n",
    "                new_hand = hand - new_board\n",
    "                possible_hands = np.vstack([possible_hands, new_hand])\n",
    "                possible_boards = np.vstack([possible_boards, new_board])\n",
    "            \n",
    "            # Use two jokers\n",
    "            if hand[JOKER] == 2 and num_cards_in_board > 2:\n",
    "                joker_vec = get_cards_array(JOKER, 2)\n",
    "                new_board = get_cards_array(card_type_in_hand, num_cards_in_board - 2) + joker_vec\n",
    "                new_hand = hand - new_board\n",
    "                possible_hands = np.vstack([possible_hands, new_hand])\n",
    "                possible_boards = np.vstack([possible_boards, new_board])\n",
    "            \n",
    "    return possible_hands, possible_boards\n",
    "        \n",
    "    \n",
    "# Some tests\n",
    "assert has_already_won(np.zeros(CARD_VALUES))\n",
    "assert not has_already_won(np.ones(CARD_VALUES))\n",
    "\n",
    "assert np.all(get_cards_array(1, 2) == np.array([0, 2, 0, 0, 0, 0, 0, 0, 0, 0, 0, 0, 0]))\n",
    "assert np.all(get_cards_array(4, 3) == np.array([0, 0, 0, 0, 3, 0, 0, 0, 0, 0, 0, 0, 0]))\n",
    "assert not np.all(get_cards_array(4, 3) == np.array([0, 2, 0, 0, 3, 0, 0, 0, 0, 0, 0, 0, 0]))\n",
    "\n",
    "# Tests for possible moves\n",
    "h, b = possible_next_moves(np.array([0, 2, 0, 0, 0, 0, 0, 2, 0, 2, 0, 0, 2]),\n",
    "                           np.array([0, 0, 0, 0, 0, 0, 0, 0, 0, 2, 0, 0, 0]))\n",
    "assert np.all(h == np.array([[0., 2., 0., 0., 0., 0., 0., 2., 0., 2., 0., 0., 2.],\n",
    "                             [0., 2., 0., 0., 0., 0., 0., 0., 0., 2., 0., 0., 2.],\n",
    "                             [0., 2., 0., 0., 0., 0., 0., 1., 0., 2., 0., 0., 1.],\n",
    "                             [0., 0., 0., 0., 0., 0., 0., 2., 0., 2., 0., 0., 2.],\n",
    "                             [0., 1., 0., 0., 0., 0., 0., 2., 0., 2., 0., 0., 1.]]))\n",
    "assert np.all(b == np.array([[0., 0., 0., 0., 0., 0., 0., 0., 0., 2., 0., 0., 0.],\n",
    "                             [0., 0., 0., 0., 0., 0., 0., 2., 0., 0., 0., 0., 0.],\n",
    "                             [0., 0., 0., 0., 0., 0., 0., 1., 0., 0., 0., 0., 1.],\n",
    "                             [0., 2., 0., 0., 0., 0., 0., 0., 0., 0., 0., 0., 0.],\n",
    "                             [0., 1., 0., 0., 0., 0., 0., 0., 0., 0., 0., 0., 1.]]))"
   ]
  },
  {
   "cell_type": "code",
   "execution_count": 13,
   "metadata": {},
   "outputs": [
    {
     "data": {
      "text/plain": [
       "array([[1, 2, 1]])"
      ]
     },
     "execution_count": 13,
     "metadata": {},
     "output_type": "execute_result"
    }
   ],
   "source": [
    "a = np.array([[1,2,3], [0,0,0]])\n",
    "b = np.array([1,2,1])"
   ]
  },
  {
   "cell_type": "code",
   "execution_count": null,
   "metadata": {},
   "outputs": [],
   "source": []
  },
  {
   "cell_type": "code",
   "execution_count": null,
   "metadata": {},
   "outputs": [],
   "source": []
  }
 ],
 "metadata": {
  "kernelspec": {
   "display_name": "Python 3",
   "language": "python",
   "name": "python3"
  },
  "language_info": {
   "codemirror_mode": {
    "name": "ipython",
    "version": 3
   },
   "file_extension": ".py",
   "mimetype": "text/x-python",
   "name": "python",
   "nbconvert_exporter": "python",
   "pygments_lexer": "ipython3",
   "version": "3.6.10"
  }
 },
 "nbformat": 4,
 "nbformat_minor": 4
}
