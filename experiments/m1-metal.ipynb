{
 "cells": [
  {
   "cell_type": "markdown",
   "id": "33d85e89",
   "metadata": {},
   "source": [
    "# Tensorflow Metal"
   ]
  },
  {
   "cell_type": "code",
   "execution_count": 12,
   "id": "3971d9d2",
   "metadata": {},
   "outputs": [
    {
     "name": "stdout",
     "output_type": "stream",
     "text": [
      "[PhysicalDevice(name='/physical_device:CPU:0', device_type='CPU'), PhysicalDevice(name='/physical_device:GPU:0', device_type='GPU')]\n",
      "2.8.0\n"
     ]
    }
   ],
   "source": [
    "import numpy as np\n",
    "import pandas as pd\n",
    "import sklearn\n",
    "import tensorflow as tf\n",
    "import matplotlib.pyplot as plt\n",
    "\n",
    "# Check for TensorFlow GPU access\n",
    "print(tf.config.list_physical_devices())\n",
    "\n",
    "# See TensorFlow version\n",
    "print(tf.__version__)"
   ]
  },
  {
   "cell_type": "code",
   "execution_count": null,
   "id": "55bdb45a",
   "metadata": {},
   "outputs": [],
   "source": []
  },
  {
   "cell_type": "code",
   "execution_count": null,
   "id": "f0134a1f",
   "metadata": {},
   "outputs": [],
   "source": []
  },
  {
   "cell_type": "markdown",
   "id": "87296c57",
   "metadata": {},
   "source": [
    "## CPU"
   ]
  },
  {
   "cell_type": "code",
   "execution_count": 13,
   "id": "eb011469",
   "metadata": {},
   "outputs": [
    {
     "name": "stdout",
     "output_type": "stream",
     "text": [
      "Epoch 1/10\n",
      "1875/1875 [==============================] - 1s 631us/step - loss: 0.2974 - accuracy: 0.9145\n",
      "Epoch 2/10\n",
      "1875/1875 [==============================] - 1s 627us/step - loss: 0.1464 - accuracy: 0.9558\n",
      "Epoch 3/10\n",
      "1875/1875 [==============================] - 1s 623us/step - loss: 0.1097 - accuracy: 0.9667\n",
      "Epoch 4/10\n",
      "1875/1875 [==============================] - 1s 623us/step - loss: 0.0893 - accuracy: 0.9722\n",
      "Epoch 5/10\n",
      "1875/1875 [==============================] - 1s 624us/step - loss: 0.0756 - accuracy: 0.9758\n",
      "Epoch 6/10\n",
      "1875/1875 [==============================] - 1s 625us/step - loss: 0.0661 - accuracy: 0.9793\n",
      "Epoch 7/10\n",
      "1875/1875 [==============================] - 1s 632us/step - loss: 0.0608 - accuracy: 0.9804\n",
      "Epoch 8/10\n",
      "1875/1875 [==============================] - 1s 625us/step - loss: 0.0528 - accuracy: 0.9827\n",
      "Epoch 9/10\n",
      "1875/1875 [==============================] - 1s 622us/step - loss: 0.0493 - accuracy: 0.9839\n",
      "Epoch 10/10\n",
      "1875/1875 [==============================] - 1s 623us/step - loss: 0.0442 - accuracy: 0.9851\n"
     ]
    }
   ],
   "source": [
    "with tf.device(\"/device:CPU:0\"):\n",
    "    mnist = tf.keras.datasets.mnist\n",
    "\n",
    "    (x_train, y_train), (x_test, y_test) = mnist.load_data()\n",
    "    x_train, x_test = x_train / 255.0, x_test / 255.0\n",
    "\n",
    "    model = tf.keras.models.Sequential([\n",
    "     tf.keras.layers.Flatten(input_shape=(28, 28)),\n",
    "     tf.keras.layers.Dense(128, activation=\"relu\"),\n",
    "     tf.keras.layers.Dropout(0.2),\n",
    "     tf.keras.layers.Dense(10)\n",
    "    ])\n",
    "\n",
    "    loss_fn = tf.keras.losses.SparseCategoricalCrossentropy(from_logits=True)\n",
    "\n",
    "    model.compile(\n",
    "        optimizer=\"adam\",\n",
    "        loss=loss_fn,\n",
    "        metrics=[\"accuracy\"]\n",
    "    )\n",
    "    model.fit(x_train, y_train, epochs=10)"
   ]
  },
  {
   "cell_type": "code",
   "execution_count": null,
   "id": "df14a9d5",
   "metadata": {},
   "outputs": [],
   "source": []
  },
  {
   "cell_type": "markdown",
   "id": "586ee7d7",
   "metadata": {},
   "source": [
    "## GPU"
   ]
  },
  {
   "cell_type": "code",
   "execution_count": 10,
   "id": "399b5c79",
   "metadata": {},
   "outputs": [
    {
     "name": "stdout",
     "output_type": "stream",
     "text": [
      "Epoch 1/10\n"
     ]
    },
    {
     "name": "stderr",
     "output_type": "stream",
     "text": [
      "2022-03-02 00:07:15.701666: I tensorflow/core/grappler/optimizers/custom_graph_optimizer_registry.cc:113] Plugin optimizer for device_type GPU is enabled.\n"
     ]
    },
    {
     "name": "stdout",
     "output_type": "stream",
     "text": [
      "1875/1875 [==============================] - 8s 4ms/step - loss: 0.2915 - accuracy: 0.9166\n",
      "Epoch 2/10\n",
      "1875/1875 [==============================] - 7s 4ms/step - loss: 0.1374 - accuracy: 0.9592\n",
      "Epoch 3/10\n",
      "1875/1875 [==============================] - 7s 4ms/step - loss: 0.1021 - accuracy: 0.9690\n",
      "Epoch 4/10\n",
      "1875/1875 [==============================] - 8s 4ms/step - loss: 0.0816 - accuracy: 0.9752\n",
      "Epoch 5/10\n",
      "1875/1875 [==============================] - 7s 4ms/step - loss: 0.0698 - accuracy: 0.9784\n",
      "Epoch 6/10\n",
      "1875/1875 [==============================] - 7s 4ms/step - loss: 0.0581 - accuracy: 0.9813\n",
      "Epoch 7/10\n",
      "1875/1875 [==============================] - 8s 4ms/step - loss: 0.0521 - accuracy: 0.9835\n",
      "Epoch 8/10\n",
      "1875/1875 [==============================] - 8s 4ms/step - loss: 0.0480 - accuracy: 0.9848\n",
      "Epoch 9/10\n",
      "1875/1875 [==============================] - 8s 4ms/step - loss: 0.0433 - accuracy: 0.9857\n",
      "Epoch 10/10\n",
      "1875/1875 [==============================] - 8s 4ms/step - loss: 0.0389 - accuracy: 0.9871\n"
     ]
    }
   ],
   "source": [
    "with tf.device(\"/device:GPU:0\"):\n",
    "    mnist = tf.keras.datasets.mnist\n",
    "\n",
    "    (x_train, y_train), (x_test, y_test) = mnist.load_data()\n",
    "    x_train, x_test = x_train / 255.0, x_test / 255.0\n",
    "\n",
    "    model = tf.keras.models.Sequential([\n",
    "     tf.keras.layers.Flatten(input_shape=(28, 28)),\n",
    "     tf.keras.layers.Dense(128, activation=\"relu\"),\n",
    "     tf.keras.layers.Dropout(0.2),\n",
    "     tf.keras.layers.Dense(10)\n",
    "    ])\n",
    "\n",
    "    loss_fn = tf.keras.losses.SparseCategoricalCrossentropy(from_logits=True)\n",
    "\n",
    "    model.compile(\n",
    "        optimizer=\"adam\",\n",
    "        loss=loss_fn,\n",
    "        metrics=[\"accuracy\"],\n",
    "        steps_per_execution=100,\n",
    "    )\n",
    "    model.fit(x_train, y_train, epochs=10)"
   ]
  },
  {
   "cell_type": "code",
   "execution_count": null,
   "id": "0668cc7f",
   "metadata": {},
   "outputs": [],
   "source": []
  },
  {
   "cell_type": "code",
   "execution_count": null,
   "id": "36856a14",
   "metadata": {},
   "outputs": [],
   "source": []
  },
  {
   "cell_type": "code",
   "execution_count": null,
   "id": "f5c4622f",
   "metadata": {},
   "outputs": [],
   "source": []
  },
  {
   "cell_type": "code",
   "execution_count": null,
   "id": "24fac436",
   "metadata": {},
   "outputs": [],
   "source": []
  }
 ],
 "metadata": {
  "kernelspec": {
   "display_name": "Python 3 (ipykernel)",
   "language": "python",
   "name": "python3"
  },
  "language_info": {
   "codemirror_mode": {
    "name": "ipython",
    "version": 3
   },
   "file_extension": ".py",
   "mimetype": "text/x-python",
   "name": "python",
   "nbconvert_exporter": "python",
   "pygments_lexer": "ipython3",
   "version": "3.9.10"
  }
 },
 "nbformat": 4,
 "nbformat_minor": 5
}
